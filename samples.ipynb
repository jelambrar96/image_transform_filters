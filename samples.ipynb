{
 "cells": [
  {
   "cell_type": "code",
   "execution_count": null,
   "metadata": {},
   "outputs": [],
   "source": [
    "import numpy as np\n",
    "import matplotlib.pyplot as plt\n",
    "\n",
    "import cv2"
   ]
  },
  {
   "cell_type": "code",
   "execution_count": null,
   "metadata": {},
   "outputs": [],
   "source": [
    "original_image = cv2.imread(\"media/images/face.png\", 0)\n",
    "print(original_image.shape)"
   ]
  },
  {
   "cell_type": "code",
   "execution_count": null,
   "metadata": {},
   "outputs": [],
   "source": [
    "plt.figure(figsize=(4,4))\n",
    "plt.imshow(original_image, cmap=\"gray\")\n",
    "plt.axis(False)\n",
    "plt.show()"
   ]
  },
  {
   "cell_type": "code",
   "execution_count": null,
   "metadata": {},
   "outputs": [],
   "source": [
    "from illumination import GammaFilter"
   ]
  },
  {
   "cell_type": "code",
   "execution_count": null,
   "metadata": {},
   "outputs": [],
   "source": [
    "gf = GammaFilter()\n",
    "gamma_values = [0.1, 0.25, 0.5, 0.75, 1, 2, 4, 8]"
   ]
  },
  {
   "cell_type": "code",
   "execution_count": null,
   "metadata": {},
   "outputs": [],
   "source": [
    "config_dict = {\"gamma\":0}\n",
    "\n",
    "plt.figure(figsize=(14,7))\n",
    "for i, item in enumerate(gamma_values):\n",
    "    config_dict[\"gamma\"] = item\n",
    "    gf.config(config_dict)\n",
    "    plt.subplot(2, 4, i + 1)\n",
    "    plt.title(\"gamma: {}\".format(item))\n",
    "    plt.imshow(gf.filter(original_image), cmap=\"gray\")\n",
    "    plt.axis(False)\n",
    "plt.show()"
   ]
  },
  {
   "cell_type": "code",
   "execution_count": null,
   "metadata": {},
   "outputs": [],
   "source": [
    "# from noise import SPNoise, GausseNoise, PoissonNoise, SpeckNoise"
   ]
  },
  {
   "cell_type": "code",
   "execution_count": null,
   "metadata": {},
   "outputs": [],
   "source": [
    "from blur import AvgBlur, GaussianBlur, MedianBlur"
   ]
  },
  {
   "cell_type": "code",
   "execution_count": null,
   "metadata": {},
   "outputs": [],
   "source": [
    "filters = [AvgBlur(), GaussianBlur(), MedianBlur()]\n",
    "names = [\"avg: \", \"gauss: \", \"median: \"]\n",
    "kernels = [3, 5, 7, 11]"
   ]
  },
  {
   "cell_type": "code",
   "execution_count": null,
   "metadata": {},
   "outputs": [],
   "source": [
    "plt.figure(figsize=(3 * len(kernels), 3 * len(filters)))\n",
    "plt.axis(False)\n",
    "for i, f in enumerate(filters):\n",
    "    for j,k in enumerate(kernels):\n",
    "        c_config = {\"kernel\": k}\n",
    "        f.config(c_config)\n",
    "        output_image = f.filter(original_image)\n",
    "\n",
    "        plt.subplot(len(filters), len(kernels), j + 1 + i*len(kernels))\n",
    "        plt.title(names[i] + str(k))\n",
    "        plt.imshow(output_image, cmap=\"gray\")\n",
    "        plt.axis(False)\n",
    "plt.show()"
   ]
  },
  {
   "cell_type": "code",
   "execution_count": null,
   "metadata": {},
   "outputs": [],
   "source": [
    "from noise import SPNoise, GaussianNoise, PoissonNoise"
   ]
  },
  {
   "cell_type": "code",
   "execution_count": null,
   "metadata": {},
   "outputs": [],
   "source": [
    "sp_values = [0.001, 0.005, 0.01, 0.05, 0.1, 0.5]\n",
    "spnoiser = SPNoise()"
   ]
  },
  {
   "cell_type": "code",
   "execution_count": null,
   "metadata": {},
   "outputs": [],
   "source": [
    "plt.figure(figsize=(3 * len(sp_values), 4))\n",
    "for i, item in enumerate(sp_values):\n",
    "    spnoiser.config({\"percent\": item})\n",
    "    output_image = spnoiser.addNoise(original_image)\n",
    "    plt.subplot(1, len(sp_values), i + 1)\n",
    "    plt.title(\"sp percent: {}\".format(item))\n",
    "    plt.imshow(output_image, cmap=\"gray\")\n",
    "    plt.axis(False)\n",
    "plt.show()"
   ]
  },
  {
   "cell_type": "code",
   "execution_count": null,
   "metadata": {},
   "outputs": [],
   "source": [
    "gauss_noiser = GaussianNoise()\n",
    "\n",
    "mean_values = [4, 8, 16, 32, 64]\n",
    "sigma_values = [4, 8, 32, 64]\n",
    "\n",
    "plt.figure(figsize=(4 * len(sigma_values), 4 * len(mean_values)))\n",
    "\n",
    "for i, u in enumerate(mean_values):\n",
    "    for j,s in enumerate(sigma_values):\n",
    "        gauss_noiser.config({\"mean\": u, \"sigma\": s})\n",
    "        output_image = gauss_noiser.addNoise(original_image)\n",
    "        # print(output_image.shape)\n",
    "\n",
    "        plt.subplot(len(mean_values), len(sigma_values), j + 1 + i*len(sigma_values))\n",
    "        plt.title(\"mean: {}, sigma: {}\".format(u,s))\n",
    "        plt.imshow(output_image, cmap=\"gray\")\n",
    "        plt.axis(False)\n",
    "plt.show()\n",
    "        "
   ]
  },
  {
   "cell_type": "code",
   "execution_count": null,
   "metadata": {},
   "outputs": [],
   "source": [
    "pn = PoissonNoise()\n",
    "output_image = pn.addNoise(original_image)"
   ]
  },
  {
   "cell_type": "code",
   "execution_count": null,
   "metadata": {},
   "outputs": [],
   "source": [
    "plt.figure(figsize=(8,4))\n",
    "\n",
    "plt.subplot(1,2,1)\n",
    "plt.title(\"original\")\n",
    "plt.imshow(original_image, cmap=\"gray\")\n",
    "plt.axis(False)\n",
    "\n",
    "plt.subplot(1,2,2)\n",
    "plt.title(\"Poisson Noise\")\n",
    "plt.imshow(output_image, cmap=\"gray\")\n",
    "plt.axis(False)\n",
    "\n",
    "plt.show()"
   ]
  },
  {
   "cell_type": "code",
   "execution_count": null,
   "metadata": {},
   "outputs": [],
   "source": [
    "from noise import SepeckleNoise\n",
    "sn = SepeckleNoise()\n",
    "output_image = sn.addNoise(original_image)"
   ]
  },
  {
   "cell_type": "code",
   "execution_count": null,
   "metadata": {},
   "outputs": [],
   "source": [
    "plt.figure(figsize=(8,4))\n",
    "\n",
    "plt.subplot(1,2,1)\n",
    "plt.title(\"original\")\n",
    "plt.imshow(original_image, cmap=\"gray\")\n",
    "plt.axis(False)\n",
    "\n",
    "plt.subplot(1,2,2)\n",
    "plt.title(\"SepeckleNoise\")\n",
    "plt.imshow(output_image, cmap=\"gray\")\n",
    "plt.axis(False)\n",
    "\n",
    "plt.show()"
   ]
  },
  {
   "cell_type": "code",
   "execution_count": null,
   "metadata": {},
   "outputs": [],
   "source": [
    "from contrast import ABContrast"
   ]
  },
  {
   "cell_type": "code",
   "execution_count": null,
   "metadata": {},
   "outputs": [],
   "source": [
    "abconstrast = ABContrast()\n",
    "\n",
    "beta_values = [-128, -64, -32, 32, 64, 128]\n",
    "alpha_values = [0.25, 0.5, 1, 2, 4]\n",
    "\n",
    "plt.figure(figsize=(2.5 * len(beta_values), 2.5 * len(alpha_values)))\n",
    "\n",
    "for i, u in enumerate(alpha_values):\n",
    "    for j,s in enumerate(beta_values):\n",
    "        abconstrast.config({\"alpha\": u, \"beta\": s})\n",
    "        output_image = abconstrast.filter(original_image)\n",
    "\n",
    "        plt.subplot(len(alpha_values), len(beta_values), j + 1 + i*len(beta_values))\n",
    "        plt.title(\"alpha: {}, beta: {}\".format(u,s))\n",
    "        plt.imshow(output_image, cmap=\"gray\")\n",
    "        plt.axis(False)\n",
    "plt.show()"
   ]
  },
  {
   "cell_type": "code",
   "execution_count": null,
   "metadata": {},
   "outputs": [],
   "source": [
    "from contrast import IncreaseContrast, ReduceContrast"
   ]
  },
  {
   "cell_type": "code",
   "execution_count": null,
   "metadata": {},
   "outputs": [],
   "source": [
    "ic = IncreaseContrast()\n",
    "rc = ReduceContrast()\n",
    "\n",
    "ic_image = ic.filter(original_image)\n",
    "rc_image = rc.filter(original_image)\n",
    "\n",
    "plt.figure(figsize=(12,4))\n",
    "\n",
    "plt.subplot(1,3,1)\n",
    "plt.title(\"original\")\n",
    "plt.imshow(original_image, cmap=\"gray\")\n",
    "plt.axis(False)\n",
    "\n",
    "plt.subplot(1,3,2)\n",
    "plt.title(\"increase contrast\")\n",
    "plt.imshow(ic_image, cmap=\"gray\")\n",
    "plt.axis(False)\n",
    "\n",
    "plt.subplot(1,3,3)\n",
    "plt.title(\"reduce contrast\")\n",
    "plt.imshow(rc_image, cmap=\"gray\")\n",
    "plt.axis(False)\n",
    "\n",
    "plt.show()"
   ]
  }
 ],
 "metadata": {
  "kernelspec": {
   "display_name": ".venv",
   "language": "python",
   "name": ".venv"
  },
  "language_info": {
   "codemirror_mode": {
    "name": "ipython",
    "version": 3
   },
   "file_extension": ".py",
   "mimetype": "text/x-python",
   "name": "python",
   "nbconvert_exporter": "python",
   "pygments_lexer": "ipython3",
   "version": "3.6.8"
  }
 },
 "nbformat": 4,
 "nbformat_minor": 2
}
